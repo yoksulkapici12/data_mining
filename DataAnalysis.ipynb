{
 "cells": [
  {
   "cell_type": "markdown",
   "metadata": {},
   "source": [
    "# Analyzing the scraped data\n",
    "When scraping data from the internet, we often need to do some \"sanity checks\" to make sure that the collected data is what we expect it to be, because in scraping we are exposed to connection problems, bans from the host, and errors caused by the differences between the HTML structures of different web pages.\n",
    "\n",
    "In this notebook, you are asked to plot some graphs to explore the data that you have collected and find the problems in it, if any."
   ]
  },
  {
   "cell_type": "code",
   "execution_count": 34,
   "metadata": {},
   "outputs": [],
   "source": [
    "import numpy as np\n",
    "import pandas as pd\n",
    "import matplotlib.pyplot as plt"
   ]
  },
  {
   "cell_type": "markdown",
   "metadata": {},
   "source": [
    "## 1. Exploring the downloaded HTML files"
   ]
  },
  {
   "cell_type": "markdown",
   "metadata": {},
   "source": [
    "### Task 1.1\n",
    "In this task, you have to plot the distribution of the file sizes of the HTML pages that you have downloaded. Usually, all pages will have a similar size. If you notice that you have a number of files with a significantly different size than the majority of the files, then it may be a good idea to check these files and explore the reason behind this difference. For example, in our code we are saving empty HTML files if we face an error while downloading the web pages. Therefore, seeing a number of files with size zero in the histogram indicates that we have some HTML pages that were not downloaded."
   ]
  },
  {
   "cell_type": "code",
   "execution_count": 35,
   "metadata": {},
   "outputs": [
    {
     "data": {
      "image/png": "[encoded data removed]",
      "text/plain": [
       "<Figure size 432x288 with 1 Axes>"
      ]
     },
     "metadata": {
      "needs_background": "light"
     },
     "output_type": "display_data"
    }
   ],
   "source": [
    "# Plot the distribution of the downloaded HTML file sizes\n",
    "# WRITE YOUR CODE HERE\n",
    "import os\n",
    "\n",
    "\n",
    "\n",
    "# Set the directory where the HTML pages are stored\n",
    "directory = 'C:/Users/Enes Şen/Desktop/CS210-HW2/CS210-HW2/data/raw_html'\n",
    "\n",
    "# Get the file sizes of all HTML pages in the directory\n",
    "file_sizes = [os.path.getsize(os.path.join(directory, f)) for f in os.listdir(directory) if f.endswith('.html')]\n",
    "\n",
    "# Plot a histogram of the file sizes\n",
    "plt.hist(file_sizes, bins=50)\n",
    "plt.xlabel('File Size')\n",
    "plt.ylabel('Frequency')\n",
    "plt.title('Distribution of HTML Page File Sizes')\n",
    "\n",
    "\n",
    "plt.savefig('figures/html_file_size.png')\n"
   ]
  },
  {
   "cell_type": "markdown",
   "metadata": {},
   "source": [
    "### Task 1.2\n",
    "Since the HTML file size is significantly affected by the images it contains, another way to explore the downloaded HTML files is by looking at the number of lines in each file. In this task, you need to plot a distribution of the number of lines in the downloaded HTML files."
   ]
  },
  {
   "cell_type": "code",
   "execution_count": 36,
   "metadata": {},
   "outputs": [
    {
     "data": {
      "image/png": "[encoded data removed]",
      "text/plain": [
       "<Figure size 432x288 with 1 Axes>"
      ]
     },
     "metadata": {
      "needs_background": "light"
     },
     "output_type": "display_data"
    }
   ],
   "source": [
    "# Plot the distribution of line counts in the downloaded HTML files\n",
    "# WRITE YOUR CODE HERE\n",
    "import os\n",
    "\n",
    "\n",
    "# Set the directory where the HTML pages are stored\n",
    "directory = 'C:/Users/Enes Şen/Desktop/CS210-HW2/CS210-HW2/data/raw_html'\n",
    "\n",
    "# Get the number of lines in each HTML file in the directory\n",
    "num_lines = []\n",
    "for f in os.listdir(directory):\n",
    "    if f.endswith('.html'):\n",
    "        with open(os.path.join(directory, f), 'r', encoding='utf-8') as file:\n",
    "            num_lines.append(len(file.readlines()))\n",
    "\n",
    "# Plot a histogram of the number of lines\n",
    "plt.hist(num_lines, bins=50)\n",
    "plt.xlabel('Number of Lines')\n",
    "plt.ylabel('Frequency')\n",
    "plt.title('Distribution of Number of Lines in HTML Files')\n",
    "\n",
    "\n",
    "# Save the final plot in figures/html_line_count.png using the code below\n",
    "plt.savefig('figures/html_line_count.png')"
   ]
  },
  {
   "cell_type": "markdown",
   "metadata": {},
   "source": [
    "## 2. Exploring the processed data"
   ]
  },
  {
   "cell_type": "markdown",
   "metadata": {},
   "source": [
    "### Task 2.1\n",
    "The first thing to check is if we have extracted information from all of the collected links or not. In this task, you need to compare the number of links that you have collected (in link_list.txt) to the number of parsed data dictionaries (in parsed_data.jsons) that you have created by parsing the downloaded HTML files."
   ]
  },
  {
   "cell_type": "code",
   "execution_count": 27,
   "metadata": {},
   "outputs": [
    {
     "name": "stdout",
     "output_type": "stream",
     "text": [
      "Number of collected links: 501\n",
      "Number of parsed links: 500\n"
     ]
    }
   ],
   "source": [
    "# Compute the number of links in link_list.txt\n",
    "# WRITE YOUR CODE HERE\n",
    "import json\n",
    "n_collected_links = 0\n",
    "\n",
    "\n",
    "\n",
    "# Read the link_list.txt file and count the number of lines\n",
    "with open(\"C:/Users/Enes Şen/Desktop/CS210-HW2/CS210-HW2/data/link_list.txt\", 'r') as f:\n",
    "    n_collected_links = len(f.readlines())\n",
    "\n",
    "\n",
    "# Compute the number of the parsed data dictionaries in parsed_data.jsons\n",
    "# WRITE YOUR CODE HERE\n",
    "\n",
    "n_parsed_links = 0\n",
    "with open(\"C:/Users/Enes Şen/Desktop/CS210-HW2/CS210-HW2/data/parsed_data.jsons\", 'r') as f:\n",
    "    n_parsed_links = sum(1 for line in f)\n",
    "\n",
    "\n",
    "\n",
    "\n",
    "print(f\"Number of collected links: {n_collected_links}\")\n",
    "print(f\"Number of parsed links: {n_parsed_links}\")"
   ]
  },
  {
   "cell_type": "markdown",
   "metadata": {},
   "source": [
    "### Task 2.2\n",
    "In this task, you need to plot the distribution of line counts in the text content that you extracted from the HTML web pages. This will help point out some errors in content extraction, if any."
   ]
  },
  {
   "cell_type": "code",
   "execution_count": 37,
   "metadata": {},
   "outputs": [
    {
     "data": {
      "image/png": "[encoded data removed]",
      "text/plain": [
       "<Figure size 432x288 with 1 Axes>"
      ]
     },
     "metadata": {
      "needs_background": "light"
     },
     "output_type": "display_data"
    }
   ],
   "source": [
    "# Plot the distribution of line counts in the extracted text content\n",
    "# WRITE YOUR CODE HERE\n",
    "import json\n",
    "\n",
    "\n",
    "# Read the parsed data from the parsed_data.jsons file\n",
    "with open('C:/Users/Enes Şen/Desktop/CS210-HW2/CS210-HW2/data/parsed_data.jsons', 'r') as f:\n",
    "    parsed_data = [json.loads(line) for line in f]\n",
    "\n",
    "# Extract the text content from each parsed data dictionary and count the number of lines\n",
    "line_counts = []\n",
    "for data in parsed_data:\n",
    "    lines = data.get('text', '').split('\\n')\n",
    "    line_counts.append(len(lines))\n",
    "\n",
    "# Plot a histogram of the line counts\n",
    "plt.hist(line_counts, bins=50)\n",
    "plt.xlabel('Number of Lines')\n",
    "plt.ylabel('Frequency')\n",
    "plt.title('Distribution of Line Counts in Extracted Text Content')\n",
    "\n",
    "\n",
    "\n",
    "# Save the final plot in figures/content_line_count.png using the code below\n",
    "plt.savefig('figures/content_line_count.png')"
   ]
  },
  {
   "cell_type": "markdown",
   "metadata": {},
   "source": [
    "### Task 2.3\n",
    "In this task, you need to plot the distribution of the dates of the collected news articles."
   ]
  },
  {
   "cell_type": "code",
   "execution_count": 38,
   "metadata": {},
   "outputs": [
    {
     "data": {
      "image/png": "[encoded data removed]",
      "text/plain": [
       "<Figure size 432x288 with 1 Axes>"
      ]
     },
     "metadata": {
      "needs_background": "light"
     },
     "output_type": "display_data"
    }
   ],
   "source": [
    "# Plot the distribution of dates from the extracted date information\n",
    "# WRITE YOUR CODE HERE\n",
    "import json\n",
    "\n",
    "from datetime import datetime\n",
    "\n",
    "# Read the parsed data from the parsed_data.jsons file\n",
    "with open('C:/Users/Enes Şen/Desktop/CS210-HW2/CS210-HW2/data/parsed_data.jsons', 'r') as f:\n",
    "    parsed_data = [json.loads(line) for line in f]\n",
    "\n",
    "# Extract the date information from each parsed data dictionary\n",
    "dates = []\n",
    "for data in parsed_data:\n",
    "    date_str = data.get('date', '')\n",
    "    if date_str:\n",
    "        date = datetime.strptime(date_str, '%Y-%m-%d')\n",
    "        dates.append(date)\n",
    "\n",
    "# Plot a histogram of the dates\n",
    "plt.hist(dates, bins=50)\n",
    "plt.xlabel('Date')\n",
    "plt.ylabel('Frequency')\n",
    "plt.title('Distribution of Dates of Collected News Articles')\n",
    "\n",
    "# Save the final plot in figures/date_dist.png using the code below\n",
    "plt.savefig('figures/date_dist.png')"
   ]
  },
  {
   "cell_type": "code",
   "execution_count": null,
   "metadata": {},
   "outputs": [],
   "source": []
  },
  {
   "cell_type": "code",
   "execution_count": null,
   "metadata": {},
   "outputs": [],
   "source": []
  }
 ],
 "metadata": {
  "kernelspec": {
   "display_name": "Python 3 (ipykernel)",
   "language": "python",
   "name": "python3"
  },
  "language_info": {
   "codemirror_mode": {
    "name": "ipython",
    "version": 3
   },
   "file_extension": ".py",
   "mimetype": "text/x-python",
   "name": "python",
   "nbconvert_exporter": "python",
   "pygments_lexer": "ipython3",
   "version": "3.9.12"
  }
 },
 "nbformat": 4,
 "nbformat_minor": 2
}
